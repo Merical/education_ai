{
 "cells": [
  {
   "cell_type": "markdown",
   "metadata": {},
   "source": [
    "<h1 align=\"center\"> For 循环 </h1>"
   ]
  },
  {
   "cell_type": "markdown",
   "metadata": {},
   "source": [
    "For循环是迭代对象元素的常用方法（如 列表）\n",
    "具有可迭代方法的任何对象都可以在for循环中使用。"
   ]
  },
  {
   "cell_type": "code",
   "execution_count": 2,
   "metadata": {},
   "outputs": [
    {
     "name": "stdout",
     "output_type": "stream",
     "text": [
      "23\n",
      "41\n",
      "12\n",
      "16\n",
      "7\n",
      "Hi\n"
     ]
    }
   ],
   "source": [
    "# The Python for statement iterates over the members of a sequence in order,\n",
    "# executing the block each time. \n",
    "\n",
    "# take the first member of the list (iterable), call it number temporarily do something with it (print it)\n",
    "# take second member of the list (iterable), call it number temporarily do something through and so on...\n",
    "for number in [23, 41, 12, 16, 7]: \n",
    "    print(number)\n",
    "print('Hi')"
   ]
  },
  {
   "cell_type": "code",
   "execution_count": 7,
   "metadata": {},
   "outputs": [
    {
     "data": {
      "text/plain": [
       "[23, 12, 7]"
      ]
     },
     "execution_count": 7,
     "metadata": {},
     "output_type": "execute_result"
    }
   ],
   "source": [
    "numlist = [number[0] for number in [[23, 41], [12, 16], [7, 8]]]\n",
    "numlist"
   ]
  },
  {
   "cell_type": "code",
   "execution_count": 1,
   "metadata": {},
   "outputs": [
    {
     "name": "stdout",
     "output_type": "stream",
     "text": [
      "the point x=12 is in coords\n"
     ]
    }
   ],
   "source": [
    "coords = [[12, 13], [33, 44], [67, 76], [88, 99]]\n",
    "if 12 in [x_coord[0] for x_coord in coords]:\n",
    "    print('the point x=12 is in the coords')"
   ]
  },
  {
   "cell_type": "markdown",
   "metadata": {},
   "source": [
    "### Continue"
   ]
  },
  {
   "cell_type": "markdown",
   "metadata": {},
   "source": [
    "continue 会跳出本次迭代，而不会中止循环进程 "
   ]
  },
  {
   "cell_type": "code",
   "execution_count": 5,
   "metadata": {},
   "outputs": [
    {
     "data": {
      "text/plain": [
       "['world', 'I', 'am', 'Python', 'a', 'open-source', 'programe', 'language.']"
      ]
     },
     "execution_count": 5,
     "metadata": {},
     "output_type": "execute_result"
    }
   ],
   "source": [
    "text = 'Hello world I am Python a open-source programe language.'\n",
    "cleaned_list = []\n",
    "\n",
    "for word in text.split(' '): \n",
    "    if word == '':\n",
    "        continue\n",
    "    cleaned_list.append(word)\n",
    "cleaned_list[1:20]"
   ]
  },
  {
   "cell_type": "markdown",
   "metadata": {},
   "source": [
    "### Break"
   ]
  },
  {
   "cell_type": "markdown",
   "metadata": {},
   "source": [
    "break会跳出整个循环"
   ]
  },
  {
   "cell_type": "code",
   "execution_count": 71,
   "metadata": {
    "collapsed": true
   },
   "outputs": [],
   "source": [
    "cleaned_list = []"
   ]
  },
  {
   "cell_type": "code",
   "execution_count": 72,
   "metadata": {},
   "outputs": [
    {
     "name": "stdout",
     "output_type": "stream",
     "text": [
      "I found the word I was looking for\n"
     ]
    },
    {
     "data": {
      "text/plain": [
       "['On', 'a', 'dark']"
      ]
     },
     "execution_count": 72,
     "metadata": {},
     "output_type": "execute_result"
    }
   ],
   "source": [
    "for word in text.split(' '): \n",
    "    if word == 'Python':\n",
    "        print('I found the word I was looking for')\n",
    "        break\n",
    "    cleaned_list.append(word)\n",
    "cleaned_list"
   ]
  },
  {
   "cell_type": "markdown",
   "metadata": {},
   "source": [
    "### 练习 (range 函数)"
   ]
  },
  {
   "cell_type": "markdown",
   "metadata": {},
   "source": [
    "1. 编写一个Python程序，它迭代整数从1到50（使用for循环）,对于偶数的整数，将其附加到列表even_numbers。对于奇数的整数，将其附加到odd_numbers列表中"
   ]
  },
  {
   "cell_type": "code",
   "execution_count": 75,
   "metadata": {
    "collapsed": true
   },
   "outputs": [],
   "source": [
    "# Making empty lists to append even and odd numbers to. \n",
    "even_numbers = []\n",
    "odd_numbers = []\n",
    "\n",
    "for number in range(1,51):\n",
    "    if number % 2 == 0:\n",
    "        even_numbers.append(number)\n",
    "    else: \n",
    "        odd_numbers.append(number)    "
   ]
  },
  {
   "cell_type": "code",
   "execution_count": 76,
   "metadata": {},
   "outputs": [
    {
     "name": "stdout",
     "output_type": "stream",
     "text": [
      "Even Numbers:  [2, 4, 6, 8, 10, 12, 14, 16, 18, 20, 22, 24, 26, 28, 30, 32, 34, 36, 38, 40, 42, 44, 46, 48, 50]\n"
     ]
    }
   ],
   "source": [
    "print(\"Even Numbers: \", even_numbers)"
   ]
  },
  {
   "cell_type": "code",
   "execution_count": 77,
   "metadata": {},
   "outputs": [
    {
     "name": "stdout",
     "output_type": "stream",
     "text": [
      "Odd Numbers:  [1, 3, 5, 7, 9, 11, 13, 15, 17, 19, 21, 23, 25, 27, 29, 31, 33, 35, 37, 39, 41, 43, 45, 47, 49]\n"
     ]
    }
   ],
   "source": [
    "print(\"Odd Numbers: \", odd_numbers)"
   ]
  },
  {
   "cell_type": "markdown",
   "metadata": {},
   "source": [
    "# Function"
   ]
  },
  {
   "cell_type": "markdown",
   "metadata": {},
   "source": [
    "### Python Functions to Remove Duplicates from List"
   ]
  },
  {
   "cell_type": "code",
   "execution_count": 5,
   "metadata": {},
   "outputs": [
    {
     "name": "stdout",
     "output_type": "stream",
     "text": [
      "[2, 4, 10, 20, 5]\n"
     ]
    }
   ],
   "source": [
    "def remove_duplicates(duplicate): \n",
    "    uniques = [] \n",
    "    for num in duplicate: \n",
    "        if num not in uniques: \n",
    "            uniques.append(num) \n",
    "    return(uniques)\n",
    "      \n",
    "duplicate = [2, 4, 10, 20, 5, 2, 20, 4] \n",
    "print(remove_duplicates(duplicate)) "
   ]
  }
 ],
 "metadata": {
  "anaconda-cloud": {},
  "kernelspec": {
   "display_name": "Python 3",
   "language": "python",
   "name": "python3"
  },
  "language_info": {
   "codemirror_mode": {
    "name": "ipython",
    "version": 3
   },
   "file_extension": ".py",
   "mimetype": "text/x-python",
   "name": "python",
   "nbconvert_exporter": "python",
   "pygments_lexer": "ipython3",
   "version": "3.5.4"
  }
 },
 "nbformat": 4,
 "nbformat_minor": 1
}
